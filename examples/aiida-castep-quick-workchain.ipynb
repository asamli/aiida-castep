{
 "cells": [
  {
   "cell_type": "markdown",
   "metadata": {},
   "source": [
    "# Quick start with aiida_castep - `CastepBaseWorkChain`\n",
    "\n",
    "## Introduction\n",
    "\n",
    "`aiida-castep` is a plugin to interface CASTEP with [AiiDA](www.aiida.net) (Automated Interactive Infrastructure and Database for Computational Science).  \n",
    "\n",
    "This example notebook goes through running calculations though `CastepBaseWorkChain`, which wrapps around `CastepCalculation` and attempts to correct common errors.\n",
    "\n",
    "In AiiDA's terminology a `Calculation` can be thought as a single *transaction* with the underlying code,\n",
    "whereas `WorkChain`s are entities that perform workflows for solving specific problems.  "
   ]
  },
  {
   "cell_type": "code",
   "execution_count": 1,
   "metadata": {},
   "outputs": [
    {
     "name": "stdout",
     "output_type": "stream",
     "text": [
      "/home/bonan/aiida_envs/aiida-1.0-dev\n"
     ]
    }
   ],
   "source": [
    "!echo $AIIDA_PATH"
   ]
  },
  {
   "cell_type": "markdown",
   "metadata": {},
   "source": [
    "## Preparing a CASTEP calculation\n",
    "\n",
    "Please also take a look at the `CastepCalculation` example before you proceed to learn what the input and outputs look like.\n",
    "\n",
    "As `CastepBaseWorkChain` takes similar inputs are for a `CastepCalculation`, but it allows certain simplifications:\n",
    "\n",
    "The main difference is that what originally goes into `CastepCalculation` now resides under a `PortNameSpace` names `calc`. For example, to pass the `parameters` to a `CastepCalculation`, ones needs to do:\n",
    "\n",
    "```python\n",
    "inputs = {\n",
    "    'parameters': Dict(dict={\n",
    "        'PARAM': {\n",
    "            'task': 'singlepoint',\n",
    "            ....\n",
    "        },\n",
    "        'CELL': {\n",
    "            'symmetry_generate': True,\n",
    "            .....\n",
    "        }\n",
    "    })\n",
    "}\n",
    "submit(CastepCalculation, **inputs)\n",
    "```\n",
    "\n",
    "and the `ProcessBuilder` interface follows the same scheme.\n",
    "Using `CastepBaseWorkChain`, this becomes:\n",
    "\n",
    "```python\n",
    "inputs = {\n",
    "    'calc': {\n",
    "        'parameters': Dict(dict={\n",
    "                'task': 'singlepoint',\n",
    "                'symmetry_generate': True,\n",
    "                .....\n",
    "            }\n",
    "        })\n",
    "    }\n",
    "}\n",
    "```\n",
    "\n",
    "where `Dict` node no longer needs to have sub fields corresponding to `cell` and `param` files - all of the keys can be placed at the top level. \n",
    "\n",
    "The other differences are:\n",
    "\n",
    "- a `kpoints_spacing` input port for defining the density of kpoints. Note that CASTEP itself supports `kpoints_mp_spacing`, but using this would not allow the grid to be recorded in the provenance graph, so using `kpoints_spacing` input port is the preferred approach.\n",
    "- if `clean_workdir` is set to `Bool(True)` the remote workdir(s) will be cleaned it the workflow is successful.\n",
    "- if `ensure_gamma_centering` is set to `Bool(True)` the kpoints mesh will include the necessary offsets to make sure it is Gamma centred.\n",
    "- Instead of setting pseudopotentials explicitly for each element, the *family* can be passed directly under the `pseudo_family` port.\n",
    "- if `continuation_folder` or `reuse_folder` is set, the flag for continuation/reuse will be included automatically for the underlying calculations.\n",
    "\n",
    "\n",
    "Below is a walk-through of the steps to create a single point calculation using the  `BaseCastepWorkChain`."
   ]
  },
  {
   "cell_type": "code",
   "execution_count": 2,
   "metadata": {},
   "outputs": [
    {
     "data": {
      "application/json": {
       "current_state": "Loaded AiiDA DB environment - profile name: demo."
      },
      "text/html": [
       "<p>Loaded AiiDA DB environment - profile name: demo.</p>"
      ],
      "text/latex": [
       "Loaded AiiDA DB environment - profile name: demo.\n"
      ],
      "text/plain": [
       "Loaded AiiDA DB environment - profile name: demo.\n"
      ]
     },
     "execution_count": 2,
     "metadata": {},
     "output_type": "execute_result"
    }
   ],
   "source": [
    "import numpy as np\n",
    "from pprint import pprint\n",
    "# Load the AiiDA environment\n",
    "%aiida"
   ]
  },
  {
   "cell_type": "markdown",
   "metadata": {},
   "source": [
    "## Example - silicon bandstructure\n",
    "This is taken from the online tutorial."
   ]
  },
  {
   "cell_type": "markdown",
   "metadata": {},
   "source": [
    "The `cell` file contain the crystal structure and related setting."
   ]
  },
  {
   "cell_type": "code",
   "execution_count": 3,
   "metadata": {},
   "outputs": [
    {
     "name": "stdout",
     "output_type": "stream",
     "text": [
      "%block lattice_cart\n",
      "2.6954645 2.6954645 0.0 \n",
      "2.6954645 0.0       2.6954645\n",
      "0.0       2.6954645 2.6954645\n",
      "%endblock lattice_cart\n",
      "%block positions_frac\n",
      "Si 0.00 0.00 0.00\n",
      "Si 0.25 0.25 0.25\n",
      "%endblock positions_frac\n",
      "symmetry_generate\n",
      "%block species_pot\n",
      "Si Si_00.usp\n",
      "%endblock species_pot\n",
      "kpoint_mp_grid 4 4 4\n",
      "%block bs_kpoint_path \n",
      "0.5 0.25 0.75    ! W\n",
      "0.5 0.5 0.5      ! L\n",
      "0.0 0.0  0.0     ! Gamma\n",
      "0.5 0.0 0.5      ! X\n",
      "0.5 0.25 0.75    ! W\n",
      "0.375 0.375 0.75 ! K\n",
      "%endblock bs_kpoint_path \n"
     ]
    }
   ],
   "source": [
    "!cat 'bandstructure/silicon/Si2.cell' | grep -v -e \"^!\""
   ]
  },
  {
   "cell_type": "markdown",
   "metadata": {},
   "source": [
    "The `param` file contains a list of key-value pairs "
   ]
  },
  {
   "cell_type": "code",
   "execution_count": 4,
   "metadata": {},
   "outputs": [
    {
     "name": "stdout",
     "output_type": "stream",
     "text": [
      "task\t\tbandstructure ! The TASK keyword instructs CASTEP what to do\n",
      "xc_functional   LDA           ! Which exchange-correlation functional to use.\n",
      "basis_precision MEDIUM        ! Choose high cut-off COARSE/MEDIUM/FINE/PRECISE\n",
      "fix_occupancy   true          ! Treat the system as an insulator\n",
      "opt_strategy    speed         ! Choose algorithms for best speed at expense of memory.\n",
      "num_dump_cycles 0             ! Don't write unwanted \".wvfn\" files.\n",
      "write_formatted_density TRUE  ! Write out a density file that we can view using (e.g.) Jmol.\n"
     ]
    }
   ],
   "source": [
    "!cat 'bandstructure/silicon/Si2.param' | grep -v -e \"^!\""
   ]
  },
  {
   "cell_type": "markdown",
   "metadata": {},
   "source": [
    "## Setup the WorkChain with AiiDA\n",
    "We setup a similar calculation with Si here. Instead of going for the band structure, we just do a single point run."
   ]
  },
  {
   "cell_type": "markdown",
   "metadata": {},
   "source": [
    "### Define the structure by creating the `StructureData` node"
   ]
  },
  {
   "cell_type": "code",
   "execution_count": 5,
   "metadata": {},
   "outputs": [],
   "source": [
    "# Define the structure\n",
    "from aiida.plugins import DataFactory\n",
    "StructureData = DataFactory('structure')\n",
    "silicon = StructureData()\n",
    "r_unit = 2.6954645\n",
    "silicon.set_cell(np.array([[1, 1, 0], [1, 0, 1], [0, 1, 1]]) * r_unit)\n",
    "silicon.append_atom(symbols=[\"Si\"], position=[0, 0, 0])\n",
    "silicon.append_atom(symbols=[\"Si\"], position=[r_unit * 0.5] * 3)\n",
    "silicon.label = \"Si\"\n",
    "silicon.description = \"A silicon structure\""
   ]
  },
  {
   "cell_type": "markdown",
   "metadata": {},
   "source": [
    "Atomic Simulation Environment (ASE) has a rich set of tools for handling structures, center around the `ase.Atoms` class.\n",
    "They can be converted to `StructureData` that AiiDA understands and saves to the provenance graph."
   ]
  },
  {
   "cell_type": "code",
   "execution_count": 6,
   "metadata": {},
   "outputs": [],
   "source": [
    "# You can also use ase.Atoms object to create the StructureData\n",
    "from ase import Atoms\n",
    "silicon_atoms = Atoms('Si2', cell=silicon.cell, scaled_positions=((0, 0, 0), (0.25, 0.25, 0.25)))\n",
    "silicon_from_atoms = StructureData(ase=silicon_atoms)"
   ]
  },
  {
   "cell_type": "markdown",
   "metadata": {},
   "source": [
    "`StructureData` can be converted back to `Atoms` for complex operation using `ase`."
   ]
  },
  {
   "cell_type": "code",
   "execution_count": 7,
   "metadata": {},
   "outputs": [
    {
     "data": {
      "text/plain": [
       "True"
      ]
     },
     "execution_count": 7,
     "metadata": {},
     "output_type": "execute_result"
    }
   ],
   "source": [
    "# You can also convent the StructureData back to ase.Atoms\n",
    "silicon_atoms_2 = silicon_from_atoms.get_ase()\n",
    "silicon_atoms_2 == silicon_atoms"
   ]
  },
  {
   "cell_type": "markdown",
   "metadata": {},
   "source": [
    "Note that a similar interface also exists to work with `pymatgen`."
   ]
  },
  {
   "cell_type": "markdown",
   "metadata": {},
   "source": [
    "### Getting a `ProcessBuilder` for setting up the inputs\n",
    "\n",
    "The `ProcessBuilder` is very useful - it allows the inputs to be defined interactively."
   ]
  },
  {
   "cell_type": "code",
   "execution_count": 8,
   "metadata": {},
   "outputs": [],
   "source": [
    "CastepBaseWorkChain = WorkflowFactory('castep.base')\n",
    "builder = CastepBaseWorkChain.get_builder()"
   ]
  },
  {
   "cell_type": "code",
   "execution_count": 9,
   "metadata": {},
   "outputs": [],
   "source": [
    "builder.calc.parameters = {\n",
    "        \"task\": \"singlepoint\",\n",
    "        \"basis_precision\": \"medium\",\n",
    "        \"fix_occupancy\": True,   \n",
    "        \"opt_strategy\": \"speed\",\n",
    "        \"num_dump_cycles\": 0,  \n",
    "        \"write_formatted_density\": True,\n",
    "        \"symmetry_generate\": True,\n",
    "        \"snap_to_symmetry\": True,\n",
    "}"
   ]
  },
  {
   "cell_type": "markdown",
   "metadata": {},
   "source": [
    "Note that we have used a plain python `dict` here - the builder will automatically convert it to a \n",
    "`Dict`.\n",
    "\n",
    "Try to include a typo in the cell above and see what happens - the builder will validate the keys before the `Dict` node is created."
   ]
  },
  {
   "cell_type": "code",
   "execution_count": 10,
   "metadata": {},
   "outputs": [],
   "source": [
    "builder.kpoints_spacing = 0.07\n",
    "# or builder.kpoints_spacing = Float(0.07)\n",
    "builder.pseudos_family = 'C19'\n",
    "\n",
    "# Locate a previously set mock code in the Calculation Example\n",
    "q = QueryBuilder()\n",
    "q.append(Code, filters={'attributes.remote_exec_path': {'like': '%castep.mock%'} })\n",
    "mock_code = q.first()[0]\n",
    "# builder.calc.code = Code.get_from_string('castep@localhost')\n",
    "builder.calc.code = mock_code\n",
    "builder.calc.structure = silicon\n",
    "# Note that the resources needs to go under `calc.metadata.options` instead of `metadata.options`\n",
    "builder.calc.metadata.options.resources = {'num_machines': 1, 'tot_num_mpiprocs': 2}\n",
    "builder.calc.metadata.options.max_wallclock_seconds = 600\n",
    "builder.metadata.description = 'A Example CASTEP calculation for silicon'\n",
    "builder.metadata.label = 'Si SINGLEPOINT'"
   ]
  },
  {
   "cell_type": "code",
   "execution_count": 11,
   "metadata": {},
   "outputs": [
    {
     "name": "stderr",
     "output_type": "stream",
     "text": [
      "11/06/2021 09:00:23 AM <2718> aiida.orm.nodes.process.workflow.workchain.WorkChainNode: [REPORT] [6134|CastepBaseWorkChain|validate_inputs]: Using kpoints: Kpoints mesh: 5x5x5 (+0.0,0.0,0.0)\n",
      "11/06/2021 09:00:24 AM <2718> aiida.orm.nodes.process.workflow.workchain.WorkChainNode: [REPORT] [6134|CastepBaseWorkChain|run_calculation]: launching CastepCalculation<6138> iteration #1\n",
      "11/06/2021 09:00:24 AM <2718> aiida.orm.nodes.process.workflow.workchain.WorkChainNode: [REPORT] [6134|CastepBaseWorkChain|inspect_calculation]: CastepCalculation<6138> completed successfully\n",
      "11/06/2021 09:00:24 AM <2718> aiida.orm.nodes.process.workflow.workchain.WorkChainNode: [REPORT] [6134|CastepBaseWorkChain|results]: workchain completed after 1 iterations\n",
      "11/06/2021 09:00:25 AM <2718> aiida.orm.nodes.process.workflow.workchain.WorkChainNode: [REPORT] [6134|CastepBaseWorkChain|on_terminated]: remote folders will not be cleaned\n"
     ]
    }
   ],
   "source": [
    "from aiida.engine import run_get_node\n",
    "results, work  = run_get_node(builder)"
   ]
  },
  {
   "cell_type": "markdown",
   "metadata": {},
   "source": [
    "## Monitor the run\n",
    "Status can be monitored with `verdi process list`"
   ]
  },
  {
   "cell_type": "code",
   "execution_count": 12,
   "metadata": {
    "scrolled": false
   },
   "outputs": [
    {
     "name": "stdout",
     "output_type": "stream",
     "text": [
      "\u001b[22m  PK  Created    Process label        Process State    Process status\n",
      "----  ---------  -------------------  ---------------  ----------------\n",
      "6090  14h ago    CastepCalculation    ⏹ Finished [0]\n",
      "6101  9m ago     CastepBaseWorkChain  ⨯ Excepted\n",
      "6106  7m ago     CastepBaseWorkChain  ⏹ Finished [0]\n",
      "6110  7m ago     CastepCalculation    ⏹ Finished [0]\n",
      "6119  1m ago     CastepBaseWorkChain  ⏹ Finished [0]\n",
      "6123  1m ago     CastepCalculation    ⏹ Finished [0]\n",
      "6134  2s ago     CastepBaseWorkChain  ⏹ Finished [0]\n",
      "6138  2s ago     CastepCalculation    ⏹ Finished [0]\u001b[0m\n",
      "\u001b[22m\n",
      "Total results: 8\n",
      "\u001b[0m\n",
      "\u001b[34m\u001b[1mInfo: \u001b[0m\u001b[22mlast time an entry changed state: 1s ago (at 09:00:24 on 2021-11-06)\u001b[0m\n",
      "\u001b[93m\u001b[1mWarning: \u001b[0m\u001b[1mthe daemon is not running\u001b[0m\n"
     ]
    }
   ],
   "source": [
    "# Monitor the status\n",
    "!verdi process list -a -p 1"
   ]
  },
  {
   "cell_type": "code",
   "execution_count": 13,
   "metadata": {},
   "outputs": [
    {
     "name": "stdout",
     "output_type": "stream",
     "text": [
      "\u001b[22mCastepBaseWorkChain<6134> Finished [0] [4:results]\n",
      "    └── CastepCalculation<6138> Finished [0]\u001b[0m\n"
     ]
    }
   ],
   "source": [
    "# The to access the output\n",
    "! verdi process status {work.uuid}"
   ]
  },
  {
   "cell_type": "markdown",
   "metadata": {},
   "source": [
    "An result of calculation is reflected by the exit status. Like processes, zero return code means it completed without error."
   ]
  },
  {
   "cell_type": "code",
   "execution_count": 14,
   "metadata": {},
   "outputs": [
    {
     "data": {
      "text/plain": [
       "0"
      ]
     },
     "execution_count": 14,
     "metadata": {},
     "output_type": "execute_result"
    }
   ],
   "source": [
    "work.exit_status"
   ]
  },
  {
   "cell_type": "markdown",
   "metadata": {},
   "source": [
    "To can the list of possible `exit_status` and they meanings, we can use `verdi plugin list`. This also shows list of inputs of which the required ones are in bold."
   ]
  },
  {
   "cell_type": "code",
   "execution_count": 15,
   "metadata": {},
   "outputs": [
    {
     "name": "stdout",
     "output_type": "stream",
     "text": [
      "\u001b[31m\u001b[1mDescription:\n",
      "\u001b[0m\n",
      "\tA basic workchain for generic CASTEP calculations.\n",
      "\tWe try to handle erros such as walltime exceeded or SCF not converged\n",
      "\n",
      "\u001b[31m\u001b[1mInputs:\u001b[0m\n",
      "\u001b[1m                    calc:  required                 \u001b[0m\n",
      "           clean_workdir:  optional  Bool           Wether to clean the workdir of the calculations or not, the default is not  ...\u001b[0m\n",
      "     continuation_folder:  optional  RemoteData     Use a remote folder as the parent folder. Useful for restarts.\u001b[0m\n",
      "  ensure_gamma_centering:  optional  Bool           Ensure the kpoint grid is gamma centred.\u001b[0m\n",
      "         kpoints_spacing:  optional  Float          Kpoint spacing\u001b[0m\n",
      "          max_iterations:  optional  Int            Maximum number of restarts\u001b[0m\n",
      "                metadata:  optional                 \u001b[0m\n",
      "                 options:  optional  Dict           Options specific to the workchain.Avaliable options: queue_wallclock_limit, ...\u001b[0m\n",
      "          pseudos_family:  optional  Str            Pseudopotential family to be used\u001b[0m\n",
      "            reuse_folder:  optional  RemoteData     Use a remote folder as the parent folder. Useful for restarts.\u001b[0m\n",
      "\u001b[31m\u001b[1mOutputs:\u001b[0m\n",
      "\u001b[1m            output_bands:  required  BandsData      \u001b[0m\n",
      "\u001b[1m       output_parameters:  required  Dict           \u001b[0m\n",
      "\u001b[1m           remote_folder:  required  RemoteData     \u001b[0m\n",
      "            output_array:  optional  ArrayData      \u001b[0m\n",
      "        output_structure:  optional  StructureData  \u001b[0m\n",
      "       output_trajectory:  optional  ArrayData      \u001b[0m\n",
      "\u001b[31m\u001b[1mExit codes:\u001b[0m\n",
      "                       1:  The process has failed with an unspecified error.\u001b[0m\n",
      "                       2:  The process failed with legacy failure mode.\u001b[0m\n",
      "                      10:  The process returned an invalid output.\u001b[0m\n",
      "                      11:  The process did not register a required output.\u001b[0m\n",
      "                     200:  The maximum number of iterations has been exceeded\u001b[0m\n",
      "                     201:  The maximum length of the wallclocks has been exceeded\u001b[0m\n",
      "                     301:  Castep generated error files and is not recoverable\u001b[0m\n",
      "                     302:  Cannot reach scf convergence despite restart efforts\u001b[0m\n",
      "                     400:  The stop flag has been put in the .param file to request termination of the calculation.\u001b[0m\n",
      "                     900:  Input validate is failed\u001b[0m\n",
      "                     901:  Completed one iteration but found not calculation returned\u001b[0m\n",
      "                    1000:  Error is not known\u001b[0m\n"
     ]
    }
   ],
   "source": [
    "!verdi plugin list aiida.workflows castep.base"
   ]
  },
  {
   "cell_type": "markdown",
   "metadata": {},
   "source": [
    "## Access the results\n",
    "Results of workflow can be accessed in a similar way compared with `CastepCalculation`."
   ]
  },
  {
   "cell_type": "code",
   "execution_count": 16,
   "metadata": {
    "scrolled": false
   },
   "outputs": [
    {
     "data": {
      "text/plain": [
       "{'num_ions': 2,\n",
       " 'warnings': [],\n",
       " 'n_kpoints': '10',\n",
       " 'unit_time': 'ps',\n",
       " 'total_time': 5.37,\n",
       " 'unit_force': 'eV/A',\n",
       " 'parser_info': 'AiiDA CASTEP basic Parser v1.1.0',\n",
       " 'point_group': '32: Oh, m-3m, 4/m -3 2/m',\n",
       " 'pseudo_pots': {'Si': '3|1.8|5|6|7|30:31:32'},\n",
       " 'space_group': '227: Fd-3m, F 4d 2 3 -1d',\n",
       " 'unit_energy': 'eV',\n",
       " 'unit_length': 'A',\n",
       " 'total_energy': -337.8473203292,\n",
       " 'castep_version': '20.11',\n",
       " 'error_messages': [],\n",
       " 'parser_warnings': [],\n",
       " 'calculation_time': 0.87,\n",
       " 'cell_constraints': '1 1 1 0 0 0',\n",
       " 'geom_unconverged': None,\n",
       " 'finalisation_time': 0.01,\n",
       " 'initialisation_time': 4.49,\n",
       " 'parallel_efficiency': 57}"
      ]
     },
     "execution_count": 16,
     "metadata": {},
     "output_type": "execute_result"
    }
   ],
   "source": [
    "# A Dict node is created containing some of the parsed results\n",
    "work.outputs.output_parameters.get_dict()"
   ]
  },
  {
   "cell_type": "code",
   "execution_count": 17,
   "metadata": {},
   "outputs": [
    {
     "data": {
      "text/plain": [
       "-337.8473203292"
      ]
     },
     "execution_count": 17,
     "metadata": {},
     "output_type": "execute_result"
    }
   ],
   "source": [
    "# Alternatively, you can access the parsed results using\n",
    "work.called[0].res.total_energy   # hit tab for completion after res"
   ]
  }
 ],
 "metadata": {
  "interpreter": {
   "hash": "cf5bfbb275efa34724f83034d97eac1f6cad0e6c7edb82ca36de8357056ef910"
  },
  "kernelspec": {
   "display_name": "Python 3.8.10 64-bit ('aiida-1.0-dev': conda)",
   "name": "python3"
  },
  "language_info": {
   "codemirror_mode": {
    "name": "ipython",
    "version": 3
   },
   "file_extension": ".py",
   "mimetype": "text/x-python",
   "name": "python",
   "nbconvert_exporter": "python",
   "pygments_lexer": "ipython3",
   "version": "3.8.10"
  }
 },
 "nbformat": 4,
 "nbformat_minor": 2
}
